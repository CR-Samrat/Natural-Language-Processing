{
 "cells": [
  {
   "cell_type": "code",
   "execution_count": 144,
   "metadata": {},
   "outputs": [],
   "source": [
    "from nltk.tokenize import word_tokenize, sent_tokenize\n",
    "import pandas as pd\n",
    "import numpy as np\n",
    "import re\n",
    "import string"
   ]
  },
  {
   "cell_type": "code",
   "execution_count": 145,
   "metadata": {},
   "outputs": [],
   "source": [
    "text_data = \"India is a large democracy . It is seventh largest country in the world . Also population wise it is the second largest among all the countries .\""
   ]
  },
  {
   "cell_type": "markdown",
   "metadata": {},
   "source": [
    "## <font color=\"Orange\">Manual</font>"
   ]
  },
  {
   "cell_type": "code",
   "execution_count": 146,
   "metadata": {},
   "outputs": [
    {
     "name": "stdout",
     "output_type": "stream",
     "text": [
      "['india is a large democracy .', 'it is seventh largest country in the world .', 'also population wise it is the second largest among all the countries .']\n",
      "['countries', 'world', 'india', 'country', 'seventh', 'also', 'the', 'largest', 'second', 'among', 'a', 'all', 'population', 'democracy', '.', 'wise', 'it', 'in', 'is', 'large']\n"
     ]
    }
   ],
   "source": [
    "sentences = [sent.lower() for sent in sent_tokenize(text_data)]\n",
    "words = word_tokenize(text_data)\n",
    "vocab = list(set([word.lower() for word in words]))\n",
    "\n",
    "print(sentences)\n",
    "print(vocab)"
   ]
  },
  {
   "cell_type": "code",
   "execution_count": 147,
   "metadata": {},
   "outputs": [
    {
     "data": {
      "text/plain": [
       "{'countries': 0,\n",
       " 'world': 1,\n",
       " 'india': 2,\n",
       " 'country': 3,\n",
       " 'seventh': 4,\n",
       " 'also': 5,\n",
       " 'the': 6,\n",
       " 'largest': 7,\n",
       " 'second': 8,\n",
       " 'among': 9,\n",
       " 'a': 10,\n",
       " 'all': 11,\n",
       " 'population': 12,\n",
       " 'democracy': 13,\n",
       " '.': 14,\n",
       " 'wise': 15,\n",
       " 'it': 16,\n",
       " 'in': 17,\n",
       " 'is': 18,\n",
       " 'large': 19}"
      ]
     },
     "execution_count": 147,
     "metadata": {},
     "output_type": "execute_result"
    }
   ],
   "source": [
    "token_dict = dict()\n",
    "word_dict = dict()\n",
    "\n",
    "idx = 0\n",
    "for w in vocab:\n",
    "    token_dict[w] = idx\n",
    "    word_dict[idx] = w\n",
    "    idx += 1\n",
    "\n",
    "token_dict"
   ]
  },
  {
   "cell_type": "markdown",
   "metadata": {},
   "source": [
    "Encoding"
   ]
  },
  {
   "cell_type": "code",
   "execution_count": 148,
   "metadata": {},
   "outputs": [],
   "source": [
    "def encode(dict, line):\n",
    "    words = word_tokenize(line)\n",
    "    output = [dict[word] for word in words]\n",
    "\n",
    "    return output"
   ]
  },
  {
   "cell_type": "code",
   "execution_count": 149,
   "metadata": {},
   "outputs": [
    {
     "data": {
      "text/plain": [
       "[[2, 18, 10, 19, 13, 14],\n",
       " [16, 18, 4, 7, 3, 17, 6, 1, 14],\n",
       " [5, 12, 15, 16, 18, 6, 8, 7, 9, 11, 6, 0, 14]]"
      ]
     },
     "execution_count": 149,
     "metadata": {},
     "output_type": "execute_result"
    }
   ],
   "source": [
    "encoded_lines = [encode(token_dict,line) for line in sentences]\n",
    "\n",
    "encoded_lines"
   ]
  },
  {
   "cell_type": "markdown",
   "metadata": {},
   "source": [
    "Decoding"
   ]
  },
  {
   "cell_type": "code",
   "execution_count": 150,
   "metadata": {},
   "outputs": [],
   "source": [
    "def decode(dict, line):\n",
    "    output = [dict[num] for num in line]\n",
    "    output_string = ' '.join(output)\n",
    "    \n",
    "    return output_string"
   ]
  },
  {
   "cell_type": "code",
   "execution_count": 151,
   "metadata": {},
   "outputs": [
    {
     "data": {
      "text/plain": [
       "'india is a large democracy .'"
      ]
     },
     "execution_count": 151,
     "metadata": {},
     "output_type": "execute_result"
    }
   ],
   "source": [
    "decode(word_dict,[2, 18, 10, 19, 13, 14])"
   ]
  },
  {
   "cell_type": "markdown",
   "metadata": {},
   "source": [
    "## <font color=\"Orange\">One Hot Encoding</font>"
   ]
  },
  {
   "cell_type": "code",
   "execution_count": 152,
   "metadata": {},
   "outputs": [],
   "source": [
    "from sklearn.preprocessing import OneHotEncoder"
   ]
  },
  {
   "cell_type": "code",
   "execution_count": 153,
   "metadata": {},
   "outputs": [
    {
     "name": "stdout",
     "output_type": "stream",
     "text": [
      "[[0. 1. 0. 1. 0. 1. 0. 0. 0. 1. 0. 0. 1. 0. 1. 0. 0. 1. 0. 0. 1. 0. 0. 1.\n",
      "  0. 0. 1. 0. 1. 0. 1. 0. 1. 0. 1. 1. 1. 1. 1. 1. 1.]\n",
      " [0. 0. 1. 1. 0. 0. 1. 0. 0. 0. 1. 1. 0. 0. 0. 1. 0. 0. 0. 1. 0. 0. 1. 0.\n",
      "  1. 0. 1. 0. 1. 0. 1. 0. 1. 0. 1. 1. 1. 1. 1. 1. 1.]\n",
      " [1. 0. 0. 0. 1. 0. 0. 1. 1. 0. 0. 0. 0. 1. 0. 0. 1. 0. 1. 0. 0. 1. 0. 0.\n",
      "  0. 1. 0. 1. 0. 1. 0. 1. 0. 1. 1. 1. 1. 1. 1. 1. 1.]]\n",
      "['x0_also' 'x0_india' 'x0_it' 'x1_is' 'x1_population' 'x2_a' 'x2_seventh'\n",
      " 'x2_wise' 'x3_it' 'x3_large' 'x3_largest' 'x4_country' 'x4_democracy'\n",
      " 'x4_is' 'x5_.' 'x5_in' 'x5_the' 'x6_ ' 'x6_second' 'x6_the' 'x7_ '\n",
      " 'x7_largest' 'x7_world' 'x8_ ' 'x8_.' 'x8_among' 'x9_ ' 'x9_all' 'x10_ '\n",
      " 'x10_the' 'x11_ ' 'x11_countries' 'x12_ ' 'x12_.' 'x13_ ' 'x14_ ' 'x15_ '\n",
      " 'x16_ ' 'x17_ ' 'x18_ ' 'x19_ ']\n"
     ]
    }
   ],
   "source": [
    "one_hot = OneHotEncoder()\n",
    "\n",
    "level_2_sentences = []\n",
    "for sent in sentences:\n",
    "    line = word_tokenize(sent)\n",
    "\n",
    "    while len(line) < len(vocab):\n",
    "        line.append(' ')\n",
    "    \n",
    "    level_2_sentences.append(line)\n",
    "\n",
    "one_hot.fit(level_2_sentences)\n",
    "encoded_text = one_hot.transform(level_2_sentences)\n",
    "\n",
    "print(encoded_text.toarray())\n",
    "print(one_hot.get_feature_names_out())"
   ]
  },
  {
   "cell_type": "markdown",
   "metadata": {},
   "source": [
    "## <font color=\"Orange\">Bag of Words</font>"
   ]
  },
  {
   "cell_type": "code",
   "execution_count": 154,
   "metadata": {},
   "outputs": [
    {
     "name": "stdout",
     "output_type": "stream",
     "text": [
      "['india is a large democracy .', 'it is seventh largest country in the world .', 'also population wise it is the second largest among all the countries .']\n",
      "['countries', 'world', 'india', 'country', 'seventh', 'also', 'the', 'largest', 'second', 'among', 'a', 'all', 'population', 'democracy', '.', 'wise', 'it', 'in', 'is', 'large']\n"
     ]
    }
   ],
   "source": [
    "print(sentences)\n",
    "print(vocab)"
   ]
  },
  {
   "cell_type": "code",
   "execution_count": 157,
   "metadata": {},
   "outputs": [],
   "source": [
    "import string"
   ]
  },
  {
   "cell_type": "code",
   "execution_count": 160,
   "metadata": {},
   "outputs": [
    {
     "name": "stdout",
     "output_type": "stream",
     "text": [
      "['countries', 'world', 'india', 'country', 'seventh', 'also', 'the', 'largest', 'second', 'among', 'a', 'all', 'population', 'democracy', '.', 'wise', 'it', 'in', 'is', 'large']\n",
      "[[0, 0, 1, 0, 0, 0, 0, 0, 0, 0, 1, 0, 0, 1, 1, 0, 0, 0, 1, 1], [0, 1, 0, 1, 1, 0, 1, 1, 0, 0, 0, 0, 0, 0, 1, 0, 1, 1, 1, 0], [1, 0, 0, 0, 0, 1, 2, 1, 1, 1, 0, 1, 1, 0, 1, 1, 1, 0, 1, 0]]\n"
     ]
    }
   ],
   "source": [
    "feature_vectors = []\n",
    "\n",
    "for sent in sentences:\n",
    "    vector = [0]*len(vocab)\n",
    "    for word in word_tokenize(sent):\n",
    "        if word not in string.punctuation:\n",
    "            vector[vocab.index(word)] = len(re.findall(r'\\b'+word+r'\\b',sent))\n",
    "        else:\n",
    "            pattern = rf\"\\{word}\"\n",
    "            vector[vocab.index(word)] = len(re.findall(pattern,sent))\n",
    "    \n",
    "    feature_vectors.append(vector)\n",
    "\n",
    "print(vocab)\n",
    "print(feature_vectors)"
   ]
  },
  {
   "cell_type": "code",
   "execution_count": 161,
   "metadata": {},
   "outputs": [
    {
     "data": {
      "text/html": [
       "<div>\n",
       "<style scoped>\n",
       "    .dataframe tbody tr th:only-of-type {\n",
       "        vertical-align: middle;\n",
       "    }\n",
       "\n",
       "    .dataframe tbody tr th {\n",
       "        vertical-align: top;\n",
       "    }\n",
       "\n",
       "    .dataframe thead th {\n",
       "        text-align: right;\n",
       "    }\n",
       "</style>\n",
       "<table border=\"1\" class=\"dataframe\">\n",
       "  <thead>\n",
       "    <tr style=\"text-align: right;\">\n",
       "      <th></th>\n",
       "      <th>countries</th>\n",
       "      <th>world</th>\n",
       "      <th>india</th>\n",
       "      <th>country</th>\n",
       "      <th>seventh</th>\n",
       "      <th>also</th>\n",
       "      <th>the</th>\n",
       "      <th>largest</th>\n",
       "      <th>second</th>\n",
       "      <th>among</th>\n",
       "      <th>a</th>\n",
       "      <th>all</th>\n",
       "      <th>population</th>\n",
       "      <th>democracy</th>\n",
       "      <th>.</th>\n",
       "      <th>wise</th>\n",
       "      <th>it</th>\n",
       "      <th>in</th>\n",
       "      <th>is</th>\n",
       "      <th>large</th>\n",
       "    </tr>\n",
       "  </thead>\n",
       "  <tbody>\n",
       "    <tr>\n",
       "      <th>0</th>\n",
       "      <td>0</td>\n",
       "      <td>0</td>\n",
       "      <td>1</td>\n",
       "      <td>0</td>\n",
       "      <td>0</td>\n",
       "      <td>0</td>\n",
       "      <td>0</td>\n",
       "      <td>0</td>\n",
       "      <td>0</td>\n",
       "      <td>0</td>\n",
       "      <td>1</td>\n",
       "      <td>0</td>\n",
       "      <td>0</td>\n",
       "      <td>1</td>\n",
       "      <td>1</td>\n",
       "      <td>0</td>\n",
       "      <td>0</td>\n",
       "      <td>0</td>\n",
       "      <td>1</td>\n",
       "      <td>1</td>\n",
       "    </tr>\n",
       "    <tr>\n",
       "      <th>1</th>\n",
       "      <td>0</td>\n",
       "      <td>1</td>\n",
       "      <td>0</td>\n",
       "      <td>1</td>\n",
       "      <td>1</td>\n",
       "      <td>0</td>\n",
       "      <td>1</td>\n",
       "      <td>1</td>\n",
       "      <td>0</td>\n",
       "      <td>0</td>\n",
       "      <td>0</td>\n",
       "      <td>0</td>\n",
       "      <td>0</td>\n",
       "      <td>0</td>\n",
       "      <td>1</td>\n",
       "      <td>0</td>\n",
       "      <td>1</td>\n",
       "      <td>1</td>\n",
       "      <td>1</td>\n",
       "      <td>0</td>\n",
       "    </tr>\n",
       "    <tr>\n",
       "      <th>2</th>\n",
       "      <td>1</td>\n",
       "      <td>0</td>\n",
       "      <td>0</td>\n",
       "      <td>0</td>\n",
       "      <td>0</td>\n",
       "      <td>1</td>\n",
       "      <td>2</td>\n",
       "      <td>1</td>\n",
       "      <td>1</td>\n",
       "      <td>1</td>\n",
       "      <td>0</td>\n",
       "      <td>1</td>\n",
       "      <td>1</td>\n",
       "      <td>0</td>\n",
       "      <td>1</td>\n",
       "      <td>1</td>\n",
       "      <td>1</td>\n",
       "      <td>0</td>\n",
       "      <td>1</td>\n",
       "      <td>0</td>\n",
       "    </tr>\n",
       "  </tbody>\n",
       "</table>\n",
       "</div>"
      ],
      "text/plain": [
       "   countries  world  india  country  seventh  also  the  largest  second  \\\n",
       "0          0      0      1        0        0     0    0        0       0   \n",
       "1          0      1      0        1        1     0    1        1       0   \n",
       "2          1      0      0        0        0     1    2        1       1   \n",
       "\n",
       "   among  a  all  population  democracy  .  wise  it  in  is  large  \n",
       "0      0  1    0           0          1  1     0   0   0   1      1  \n",
       "1      0  0    0           0          0  1     0   1   1   1      0  \n",
       "2      1  0    1           1          0  1     1   1   0   1      0  "
      ]
     },
     "execution_count": 161,
     "metadata": {},
     "output_type": "execute_result"
    }
   ],
   "source": [
    "pd.DataFrame(feature_vectors, columns=vocab)"
   ]
  },
  {
   "cell_type": "markdown",
   "metadata": {},
   "source": [
    "## <font color=\"Orange\">Count Vectorizer</font>"
   ]
  },
  {
   "cell_type": "code",
   "execution_count": 162,
   "metadata": {},
   "outputs": [],
   "source": [
    "from sklearn.feature_extraction.text import CountVectorizer"
   ]
  },
  {
   "cell_type": "code",
   "execution_count": 167,
   "metadata": {},
   "outputs": [
    {
     "name": "stdout",
     "output_type": "stream",
     "text": [
      "[[0 0 0 0 0 1 0 1 1 0 1 0 0 0 0 0 0 0]\n",
      " [0 0 0 0 1 0 1 0 1 1 0 1 0 0 1 1 0 1]\n",
      " [1 1 1 1 0 0 0 0 1 1 0 1 1 1 0 2 1 0]]\n",
      "['all' 'also' 'among' 'countries' 'country' 'democracy' 'in' 'india' 'is'\n",
      " 'it' 'large' 'largest' 'population' 'second' 'seventh' 'the' 'wise'\n",
      " 'world']\n"
     ]
    }
   ],
   "source": [
    "cov = CountVectorizer()\n",
    "text_transform = cov.fit_transform(sentences)\n",
    "\n",
    "print(text_transform.toarray())\n",
    "print(cov.get_feature_names_out())"
   ]
  },
  {
   "cell_type": "code",
   "execution_count": 168,
   "metadata": {},
   "outputs": [
    {
     "data": {
      "text/html": [
       "<div>\n",
       "<style scoped>\n",
       "    .dataframe tbody tr th:only-of-type {\n",
       "        vertical-align: middle;\n",
       "    }\n",
       "\n",
       "    .dataframe tbody tr th {\n",
       "        vertical-align: top;\n",
       "    }\n",
       "\n",
       "    .dataframe thead th {\n",
       "        text-align: right;\n",
       "    }\n",
       "</style>\n",
       "<table border=\"1\" class=\"dataframe\">\n",
       "  <thead>\n",
       "    <tr style=\"text-align: right;\">\n",
       "      <th></th>\n",
       "      <th>all</th>\n",
       "      <th>also</th>\n",
       "      <th>among</th>\n",
       "      <th>countries</th>\n",
       "      <th>country</th>\n",
       "      <th>democracy</th>\n",
       "      <th>in</th>\n",
       "      <th>india</th>\n",
       "      <th>is</th>\n",
       "      <th>it</th>\n",
       "      <th>large</th>\n",
       "      <th>largest</th>\n",
       "      <th>population</th>\n",
       "      <th>second</th>\n",
       "      <th>seventh</th>\n",
       "      <th>the</th>\n",
       "      <th>wise</th>\n",
       "      <th>world</th>\n",
       "    </tr>\n",
       "  </thead>\n",
       "  <tbody>\n",
       "    <tr>\n",
       "      <th>0</th>\n",
       "      <td>0</td>\n",
       "      <td>0</td>\n",
       "      <td>0</td>\n",
       "      <td>0</td>\n",
       "      <td>0</td>\n",
       "      <td>1</td>\n",
       "      <td>0</td>\n",
       "      <td>1</td>\n",
       "      <td>1</td>\n",
       "      <td>0</td>\n",
       "      <td>1</td>\n",
       "      <td>0</td>\n",
       "      <td>0</td>\n",
       "      <td>0</td>\n",
       "      <td>0</td>\n",
       "      <td>0</td>\n",
       "      <td>0</td>\n",
       "      <td>0</td>\n",
       "    </tr>\n",
       "    <tr>\n",
       "      <th>1</th>\n",
       "      <td>0</td>\n",
       "      <td>0</td>\n",
       "      <td>0</td>\n",
       "      <td>0</td>\n",
       "      <td>1</td>\n",
       "      <td>0</td>\n",
       "      <td>1</td>\n",
       "      <td>0</td>\n",
       "      <td>1</td>\n",
       "      <td>1</td>\n",
       "      <td>0</td>\n",
       "      <td>1</td>\n",
       "      <td>0</td>\n",
       "      <td>0</td>\n",
       "      <td>1</td>\n",
       "      <td>1</td>\n",
       "      <td>0</td>\n",
       "      <td>1</td>\n",
       "    </tr>\n",
       "    <tr>\n",
       "      <th>2</th>\n",
       "      <td>1</td>\n",
       "      <td>1</td>\n",
       "      <td>1</td>\n",
       "      <td>1</td>\n",
       "      <td>0</td>\n",
       "      <td>0</td>\n",
       "      <td>0</td>\n",
       "      <td>0</td>\n",
       "      <td>1</td>\n",
       "      <td>1</td>\n",
       "      <td>0</td>\n",
       "      <td>1</td>\n",
       "      <td>1</td>\n",
       "      <td>1</td>\n",
       "      <td>0</td>\n",
       "      <td>2</td>\n",
       "      <td>1</td>\n",
       "      <td>0</td>\n",
       "    </tr>\n",
       "  </tbody>\n",
       "</table>\n",
       "</div>"
      ],
      "text/plain": [
       "   all  also  among  countries  country  democracy  in  india  is  it  large  \\\n",
       "0    0     0      0          0        0          1   0      1   1   0      1   \n",
       "1    0     0      0          0        1          0   1      0   1   1      0   \n",
       "2    1     1      1          1        0          0   0      0   1   1      0   \n",
       "\n",
       "   largest  population  second  seventh  the  wise  world  \n",
       "0        0           0       0        0    0     0      0  \n",
       "1        1           0       0        1    1     0      1  \n",
       "2        1           1       1        0    2     1      0  "
      ]
     },
     "execution_count": 168,
     "metadata": {},
     "output_type": "execute_result"
    }
   ],
   "source": [
    "pd.DataFrame(text_transform.toarray(),columns=cov.get_feature_names_out())"
   ]
  },
  {
   "cell_type": "markdown",
   "metadata": {},
   "source": [
    "removing the stop words"
   ]
  },
  {
   "cell_type": "code",
   "execution_count": 169,
   "metadata": {},
   "outputs": [
    {
     "name": "stdout",
     "output_type": "stream",
     "text": [
      "[[0 0 1 1 1 0 0 0 0 0 0]\n",
      " [0 1 0 0 0 1 0 0 1 0 1]\n",
      " [1 0 0 0 0 1 1 1 0 1 0]]\n",
      "['countries' 'country' 'democracy' 'india' 'large' 'largest' 'population'\n",
      " 'second' 'seventh' 'wise' 'world']\n"
     ]
    }
   ],
   "source": [
    "cov = CountVectorizer(stop_words='english')\n",
    "text_transform = cov.fit_transform(sentences)\n",
    "\n",
    "print(text_transform.toarray())\n",
    "print(cov.get_feature_names_out())"
   ]
  },
  {
   "cell_type": "code",
   "execution_count": 170,
   "metadata": {},
   "outputs": [
    {
     "data": {
      "text/html": [
       "<div>\n",
       "<style scoped>\n",
       "    .dataframe tbody tr th:only-of-type {\n",
       "        vertical-align: middle;\n",
       "    }\n",
       "\n",
       "    .dataframe tbody tr th {\n",
       "        vertical-align: top;\n",
       "    }\n",
       "\n",
       "    .dataframe thead th {\n",
       "        text-align: right;\n",
       "    }\n",
       "</style>\n",
       "<table border=\"1\" class=\"dataframe\">\n",
       "  <thead>\n",
       "    <tr style=\"text-align: right;\">\n",
       "      <th></th>\n",
       "      <th>countries</th>\n",
       "      <th>country</th>\n",
       "      <th>democracy</th>\n",
       "      <th>india</th>\n",
       "      <th>large</th>\n",
       "      <th>largest</th>\n",
       "      <th>population</th>\n",
       "      <th>second</th>\n",
       "      <th>seventh</th>\n",
       "      <th>wise</th>\n",
       "      <th>world</th>\n",
       "    </tr>\n",
       "  </thead>\n",
       "  <tbody>\n",
       "    <tr>\n",
       "      <th>0</th>\n",
       "      <td>0</td>\n",
       "      <td>0</td>\n",
       "      <td>1</td>\n",
       "      <td>1</td>\n",
       "      <td>1</td>\n",
       "      <td>0</td>\n",
       "      <td>0</td>\n",
       "      <td>0</td>\n",
       "      <td>0</td>\n",
       "      <td>0</td>\n",
       "      <td>0</td>\n",
       "    </tr>\n",
       "    <tr>\n",
       "      <th>1</th>\n",
       "      <td>0</td>\n",
       "      <td>1</td>\n",
       "      <td>0</td>\n",
       "      <td>0</td>\n",
       "      <td>0</td>\n",
       "      <td>1</td>\n",
       "      <td>0</td>\n",
       "      <td>0</td>\n",
       "      <td>1</td>\n",
       "      <td>0</td>\n",
       "      <td>1</td>\n",
       "    </tr>\n",
       "    <tr>\n",
       "      <th>2</th>\n",
       "      <td>1</td>\n",
       "      <td>0</td>\n",
       "      <td>0</td>\n",
       "      <td>0</td>\n",
       "      <td>0</td>\n",
       "      <td>1</td>\n",
       "      <td>1</td>\n",
       "      <td>1</td>\n",
       "      <td>0</td>\n",
       "      <td>1</td>\n",
       "      <td>0</td>\n",
       "    </tr>\n",
       "  </tbody>\n",
       "</table>\n",
       "</div>"
      ],
      "text/plain": [
       "   countries  country  democracy  india  large  largest  population  second  \\\n",
       "0          0        0          1      1      1        0           0       0   \n",
       "1          0        1          0      0      0        1           0       0   \n",
       "2          1        0          0      0      0        1           1       1   \n",
       "\n",
       "   seventh  wise  world  \n",
       "0        0     0      0  \n",
       "1        1     0      1  \n",
       "2        0     1      0  "
      ]
     },
     "execution_count": 170,
     "metadata": {},
     "output_type": "execute_result"
    }
   ],
   "source": [
    "pd.DataFrame(text_transform.toarray(),columns=cov.get_feature_names_out())"
   ]
  },
  {
   "cell_type": "markdown",
   "metadata": {},
   "source": [
    "## <font color=\"Orange\">Character level Encoding</font>"
   ]
  },
  {
   "cell_type": "code",
   "execution_count": 171,
   "metadata": {},
   "outputs": [
    {
     "name": "stdout",
     "output_type": "stream",
     "text": [
      "[[ 5  1  4  2  2  2  1  0  3  1  1  1  1  0  2  1  0  0  0  0  1]\n",
      " [ 8  1  1  1  1  4  1  2  3  2  0  3  2  0  3  3  5  1  1  1  1]\n",
      " [12  1  5  2  1  6  2  2  5  5  1  4  6  2  2  6  6  2  0  1  0]]\n",
      "[' ' '.' 'a' 'c' 'd' 'e' 'g' 'h' 'i' 'l' 'm' 'n' 'o' 'p' 'r' 's' 't' 'u'\n",
      " 'v' 'w' 'y']\n"
     ]
    }
   ],
   "source": [
    "cov = CountVectorizer(analyzer='char')\n",
    "text_transform = cov.fit_transform(sentences)\n",
    "\n",
    "print(text_transform.toarray())\n",
    "print(cov.get_feature_names_out())"
   ]
  },
  {
   "cell_type": "code",
   "execution_count": 172,
   "metadata": {},
   "outputs": [
    {
     "data": {
      "text/html": [
       "<div>\n",
       "<style scoped>\n",
       "    .dataframe tbody tr th:only-of-type {\n",
       "        vertical-align: middle;\n",
       "    }\n",
       "\n",
       "    .dataframe tbody tr th {\n",
       "        vertical-align: top;\n",
       "    }\n",
       "\n",
       "    .dataframe thead th {\n",
       "        text-align: right;\n",
       "    }\n",
       "</style>\n",
       "<table border=\"1\" class=\"dataframe\">\n",
       "  <thead>\n",
       "    <tr style=\"text-align: right;\">\n",
       "      <th></th>\n",
       "      <th></th>\n",
       "      <th>.</th>\n",
       "      <th>a</th>\n",
       "      <th>c</th>\n",
       "      <th>d</th>\n",
       "      <th>e</th>\n",
       "      <th>g</th>\n",
       "      <th>h</th>\n",
       "      <th>i</th>\n",
       "      <th>l</th>\n",
       "      <th>...</th>\n",
       "      <th>n</th>\n",
       "      <th>o</th>\n",
       "      <th>p</th>\n",
       "      <th>r</th>\n",
       "      <th>s</th>\n",
       "      <th>t</th>\n",
       "      <th>u</th>\n",
       "      <th>v</th>\n",
       "      <th>w</th>\n",
       "      <th>y</th>\n",
       "    </tr>\n",
       "  </thead>\n",
       "  <tbody>\n",
       "    <tr>\n",
       "      <th>0</th>\n",
       "      <td>5</td>\n",
       "      <td>1</td>\n",
       "      <td>4</td>\n",
       "      <td>2</td>\n",
       "      <td>2</td>\n",
       "      <td>2</td>\n",
       "      <td>1</td>\n",
       "      <td>0</td>\n",
       "      <td>3</td>\n",
       "      <td>1</td>\n",
       "      <td>...</td>\n",
       "      <td>1</td>\n",
       "      <td>1</td>\n",
       "      <td>0</td>\n",
       "      <td>2</td>\n",
       "      <td>1</td>\n",
       "      <td>0</td>\n",
       "      <td>0</td>\n",
       "      <td>0</td>\n",
       "      <td>0</td>\n",
       "      <td>1</td>\n",
       "    </tr>\n",
       "    <tr>\n",
       "      <th>1</th>\n",
       "      <td>8</td>\n",
       "      <td>1</td>\n",
       "      <td>1</td>\n",
       "      <td>1</td>\n",
       "      <td>1</td>\n",
       "      <td>4</td>\n",
       "      <td>1</td>\n",
       "      <td>2</td>\n",
       "      <td>3</td>\n",
       "      <td>2</td>\n",
       "      <td>...</td>\n",
       "      <td>3</td>\n",
       "      <td>2</td>\n",
       "      <td>0</td>\n",
       "      <td>3</td>\n",
       "      <td>3</td>\n",
       "      <td>5</td>\n",
       "      <td>1</td>\n",
       "      <td>1</td>\n",
       "      <td>1</td>\n",
       "      <td>1</td>\n",
       "    </tr>\n",
       "    <tr>\n",
       "      <th>2</th>\n",
       "      <td>12</td>\n",
       "      <td>1</td>\n",
       "      <td>5</td>\n",
       "      <td>2</td>\n",
       "      <td>1</td>\n",
       "      <td>6</td>\n",
       "      <td>2</td>\n",
       "      <td>2</td>\n",
       "      <td>5</td>\n",
       "      <td>5</td>\n",
       "      <td>...</td>\n",
       "      <td>4</td>\n",
       "      <td>6</td>\n",
       "      <td>2</td>\n",
       "      <td>2</td>\n",
       "      <td>6</td>\n",
       "      <td>6</td>\n",
       "      <td>2</td>\n",
       "      <td>0</td>\n",
       "      <td>1</td>\n",
       "      <td>0</td>\n",
       "    </tr>\n",
       "  </tbody>\n",
       "</table>\n",
       "<p>3 rows × 21 columns</p>\n",
       "</div>"
      ],
      "text/plain": [
       "       .  a  c  d  e  g  h  i  l  ...  n  o  p  r  s  t  u  v  w  y\n",
       "0   5  1  4  2  2  2  1  0  3  1  ...  1  1  0  2  1  0  0  0  0  1\n",
       "1   8  1  1  1  1  4  1  2  3  2  ...  3  2  0  3  3  5  1  1  1  1\n",
       "2  12  1  5  2  1  6  2  2  5  5  ...  4  6  2  2  6  6  2  0  1  0\n",
       "\n",
       "[3 rows x 21 columns]"
      ]
     },
     "execution_count": 172,
     "metadata": {},
     "output_type": "execute_result"
    }
   ],
   "source": [
    "pd.DataFrame(text_transform.toarray(),columns=cov.get_feature_names_out())"
   ]
  }
 ],
 "metadata": {
  "kernelspec": {
   "display_name": "Python 3",
   "language": "python",
   "name": "python3"
  },
  "language_info": {
   "codemirror_mode": {
    "name": "ipython",
    "version": 3
   },
   "file_extension": ".py",
   "mimetype": "text/x-python",
   "name": "python",
   "nbconvert_exporter": "python",
   "pygments_lexer": "ipython3",
   "version": "3.11.3"
  }
 },
 "nbformat": 4,
 "nbformat_minor": 2
}
