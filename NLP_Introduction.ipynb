{
 "cells": [
  {
   "cell_type": "code",
   "execution_count": 19,
   "metadata": {},
   "outputs": [
    {
     "name": "stderr",
     "output_type": "stream",
     "text": [
      "[nltk_data] Downloading package wordnet to\n",
      "[nltk_data]     C:\\Users\\Subhadeep_Sarkar\\AppData\\Roaming\\nltk_data...\n"
     ]
    },
    {
     "data": {
      "text/plain": [
       "True"
      ]
     },
     "execution_count": 19,
     "metadata": {},
     "output_type": "execute_result"
    }
   ],
   "source": [
    "import nltk\n",
    "\n",
    "nltk.download('wordnet')"
   ]
  },
  {
   "cell_type": "markdown",
   "metadata": {},
   "source": [
    "## Input (Text)"
   ]
  },
  {
   "cell_type": "code",
   "execution_count": 1,
   "metadata": {},
   "outputs": [],
   "source": [
    "text = \"India, located in South Asia, is the world's seventh-largest country by land area and the second-most populous country, home to over 1.3 billion people. It boasts a rich cultural heritage, characterized by its diverse languages, religions, and traditions. India's economy is one of the fastest-growing in the world, driven by industries such as information technology, agriculture, and manufacturing. The country is known for its iconic landmarks such as the Taj Mahal, vibrant festivals like Diwali and Holi, and delicious cuisine featuring dishes like biryani and curry. India's political landscape is complex, with a parliamentary democratic system and a history shaped by various dynasties, colonial rule, and independence movements.\""
   ]
  },
  {
   "cell_type": "markdown",
   "metadata": {},
   "source": [
    "## Words and sentences tokenization (separation)"
   ]
  },
  {
   "cell_type": "code",
   "execution_count": 2,
   "metadata": {},
   "outputs": [],
   "source": [
    "from nltk.tokenize import word_tokenize, sent_tokenize"
   ]
  },
  {
   "cell_type": "code",
   "execution_count": 3,
   "metadata": {},
   "outputs": [
    {
     "name": "stdout",
     "output_type": "stream",
     "text": [
      "1 . India, located in South Asia, is the world's seventh-largest country by land area and the second-most populous country, home to over 1.3 billion people.\n",
      "2 . It boasts a rich cultural heritage, characterized by its diverse languages, religions, and traditions.\n",
      "3 . India's economy is one of the fastest-growing in the world, driven by industries such as information technology, agriculture, and manufacturing.\n",
      "4 . The country is known for its iconic landmarks such as the Taj Mahal, vibrant festivals like Diwali and Holi, and delicious cuisine featuring dishes like biryani and curry.\n",
      "5 . India's political landscape is complex, with a parliamentary democratic system and a history shaped by various dynasties, colonial rule, and independence movements.\n"
     ]
    }
   ],
   "source": [
    "sentences = sent_tokenize(text)\n",
    "\n",
    "for idx, sentence in enumerate(sentences):\n",
    "    print(idx+1,\".\",sentence)"
   ]
  },
  {
   "cell_type": "code",
   "execution_count": 4,
   "metadata": {},
   "outputs": [
    {
     "name": "stdout",
     "output_type": "stream",
     "text": [
      "India\n",
      ",\n",
      "located\n",
      "in\n",
      "South\n",
      "Asia\n",
      ",\n",
      "is\n",
      "the\n",
      "world\n",
      "'s\n",
      "seventh-largest\n",
      "country\n",
      "by\n",
      "land\n",
      "area\n",
      "and\n",
      "the\n",
      "second-most\n",
      "populous\n",
      "country\n",
      ",\n",
      "home\n",
      "to\n",
      "over\n",
      "1.3\n",
      "billion\n",
      "people\n",
      ".\n",
      "It\n",
      "boasts\n",
      "a\n",
      "rich\n",
      "cultural\n",
      "heritage\n",
      ",\n",
      "characterized\n",
      "by\n",
      "its\n",
      "diverse\n",
      "languages\n",
      ",\n",
      "religions\n",
      ",\n",
      "and\n",
      "traditions\n",
      ".\n",
      "India\n",
      "'s\n",
      "economy\n",
      "is\n",
      "one\n",
      "of\n",
      "the\n",
      "fastest-growing\n",
      "in\n",
      "the\n",
      "world\n",
      ",\n",
      "driven\n",
      "by\n",
      "industries\n",
      "such\n",
      "as\n",
      "information\n",
      "technology\n",
      ",\n",
      "agriculture\n",
      ",\n",
      "and\n",
      "manufacturing\n",
      ".\n",
      "The\n",
      "country\n",
      "is\n",
      "known\n",
      "for\n",
      "its\n",
      "iconic\n",
      "landmarks\n",
      "such\n",
      "as\n",
      "the\n",
      "Taj\n",
      "Mahal\n",
      ",\n",
      "vibrant\n",
      "festivals\n",
      "like\n",
      "Diwali\n",
      "and\n",
      "Holi\n",
      ",\n",
      "and\n",
      "delicious\n",
      "cuisine\n",
      "featuring\n",
      "dishes\n",
      "like\n",
      "biryani\n",
      "and\n",
      "curry\n",
      ".\n",
      "India\n",
      "'s\n",
      "political\n",
      "landscape\n",
      "is\n",
      "complex\n",
      ",\n",
      "with\n",
      "a\n",
      "parliamentary\n",
      "democratic\n",
      "system\n",
      "and\n",
      "a\n",
      "history\n",
      "shaped\n",
      "by\n",
      "various\n",
      "dynasties\n",
      ",\n",
      "colonial\n",
      "rule\n",
      ",\n",
      "and\n",
      "independence\n",
      "movements\n",
      ".\n",
      "Total words 130\n"
     ]
    }
   ],
   "source": [
    "words = word_tokenize(text)\n",
    "\n",
    "for word in words:\n",
    "    print(word)\n",
    "\n",
    "print(\"Total words\",len(words))"
   ]
  },
  {
   "cell_type": "markdown",
   "metadata": {},
   "source": [
    "## Stopwords"
   ]
  },
  {
   "cell_type": "markdown",
   "metadata": {},
   "source": [
    "Stopwords are those irrelevant words that can be removed from a sentence without changing its meaning"
   ]
  },
  {
   "cell_type": "code",
   "execution_count": 5,
   "metadata": {},
   "outputs": [],
   "source": [
    "from nltk.corpus import stopwords"
   ]
  },
  {
   "cell_type": "code",
   "execution_count": 8,
   "metadata": {},
   "outputs": [
    {
     "name": "stdout",
     "output_type": "stream",
     "text": [
      "['india', 'located', 'south', 'asia', 'world', \"'s\", 'seventh-largest', 'country', 'land', 'area', 'second-most', 'populous', 'country', 'home', '1.3', 'billion', 'people', 'boasts', 'rich', 'cultural', 'heritage', 'characterized', 'diverse', 'languages', 'religions', 'traditions', 'india', \"'s\", 'economy', 'one', 'fastest-growing', 'world', 'driven', 'industries', 'information', 'technology', 'agriculture', 'manufacturing', 'country', 'known', 'iconic', 'landmarks', 'taj', 'mahal', 'vibrant', 'festivals', 'like', 'diwali', 'holi', 'delicious', 'cuisine', 'featuring', 'dishes', 'like', 'biryani', 'curry', 'india', \"'s\", 'political', 'landscape', 'complex', 'parliamentary', 'democratic', 'system', 'history', 'shaped', 'various', 'dynasties', 'colonial', 'rule', 'independence', 'movements']\n",
      "Total 72 words\n"
     ]
    }
   ],
   "source": [
    "new_words = []\n",
    "\n",
    "for word in words:\n",
    "    if word.lower() not in stopwords.words('english') and len(word) > 1:\n",
    "        new_words.append(word.lower())\n",
    "\n",
    "print(new_words)\n",
    "print(\"Total\",len(new_words),\"words\")"
   ]
  },
  {
   "cell_type": "markdown",
   "metadata": {},
   "source": [
    "## Remove duplicate words"
   ]
  },
  {
   "cell_type": "code",
   "execution_count": 10,
   "metadata": {},
   "outputs": [
    {
     "name": "stdout",
     "output_type": "stream",
     "text": [
      "64\n"
     ]
    },
    {
     "data": {
      "text/plain": [
       "['political',\n",
       " 'system',\n",
       " 'delicious',\n",
       " 'people',\n",
       " 'cultural',\n",
       " 'information',\n",
       " 'rule',\n",
       " 'featuring',\n",
       " 'land',\n",
       " 'complex',\n",
       " 'parliamentary',\n",
       " 'known',\n",
       " 'biryani',\n",
       " 'diverse',\n",
       " 'shaped',\n",
       " 'area',\n",
       " 'holi',\n",
       " '1.3',\n",
       " 'india',\n",
       " \"'s\",\n",
       " 'cuisine',\n",
       " 'second-most',\n",
       " 'curry',\n",
       " 'movements',\n",
       " 'boasts',\n",
       " 'dynasties',\n",
       " 'heritage',\n",
       " 'country',\n",
       " 'mahal',\n",
       " 'dishes',\n",
       " 'colonial',\n",
       " 'landmarks',\n",
       " 'religions',\n",
       " 'billion',\n",
       " 'languages',\n",
       " 'traditions',\n",
       " 'vibrant',\n",
       " 'independence',\n",
       " 'one',\n",
       " 'diwali',\n",
       " 'populous',\n",
       " 'various',\n",
       " 'south',\n",
       " 'driven',\n",
       " 'technology',\n",
       " 'home',\n",
       " 'industries',\n",
       " 'manufacturing',\n",
       " 'characterized',\n",
       " 'seventh-largest',\n",
       " 'landscape',\n",
       " 'festivals',\n",
       " 'world',\n",
       " 'like',\n",
       " 'democratic',\n",
       " 'asia',\n",
       " 'rich',\n",
       " 'located',\n",
       " 'economy',\n",
       " 'fastest-growing',\n",
       " 'agriculture',\n",
       " 'iconic',\n",
       " 'history',\n",
       " 'taj']"
      ]
     },
     "execution_count": 10,
     "metadata": {},
     "output_type": "execute_result"
    }
   ],
   "source": [
    "words = list(set(new_words))\n",
    "\n",
    "print(len(words))\n",
    "words"
   ]
  },
  {
   "cell_type": "markdown",
   "metadata": {},
   "source": [
    "## Lamination and Stemmer"
   ]
  },
  {
   "cell_type": "markdown",
   "metadata": {},
   "source": [
    "Both are used to get the root words but Lamination is more accurate but it takes huge time than stemmer"
   ]
  },
  {
   "cell_type": "code",
   "execution_count": 11,
   "metadata": {},
   "outputs": [],
   "source": [
    "from nltk.stem import WordNetLemmatizer, PorterStemmer"
   ]
  },
  {
   "cell_type": "code",
   "execution_count": 12,
   "metadata": {},
   "outputs": [],
   "source": [
    "lamination = WordNetLemmatizer()\n",
    "stemmer = PorterStemmer()"
   ]
  },
  {
   "cell_type": "code",
   "execution_count": 22,
   "metadata": {},
   "outputs": [
    {
     "name": "stdout",
     "output_type": "stream",
     "text": [
      "['political', 'system', 'delicious', 'people', 'cultural', 'information', 'rule', 'featuring', 'land', 'complex', 'parliamentary', 'known', 'biryani', 'diverse', 'shaped', 'area', 'holi', '1.3', 'india', \"'s\", 'cuisine', 'second-most', 'curry', 'movement', 'boast', 'dynasty', 'heritage', 'country', 'mahal', 'dish', 'colonial', 'landmark', 'religion', 'billion', 'language', 'tradition', 'vibrant', 'independence', 'one', 'diwali', 'populous', 'various', 'south', 'driven', 'technology', 'home', 'industry', 'manufacturing', 'characterized', 'seventh-largest', 'landscape', 'festival', 'world', 'like', 'democratic', 'asia', 'rich', 'located', 'economy', 'fastest-growing', 'agriculture', 'iconic', 'history', 'taj']\n",
      "64\n"
     ]
    }
   ],
   "source": [
    "laminated_words = [lamination.lemmatize(word) for word in words]\n",
    "print(laminated_words)\n",
    "print(len(laminated_words))"
   ]
  },
  {
   "cell_type": "code",
   "execution_count": 18,
   "metadata": {},
   "outputs": [
    {
     "name": "stdout",
     "output_type": "stream",
     "text": [
      "['polit', 'system', 'delici', 'peopl', 'cultur', 'inform', 'rule', 'featur', 'land', 'complex', 'parliamentari', 'known', 'biryani', 'divers', 'shape', 'area', 'holi', '1.3', 'india', \"'s\", 'cuisin', 'second-most', 'curri', 'movement', 'boast', 'dynasti', 'heritag', 'countri', 'mahal', 'dish', 'coloni', 'landmark', 'religion', 'billion', 'languag', 'tradit', 'vibrant', 'independ', 'one', 'diwali', 'popul', 'variou', 'south', 'driven', 'technolog', 'home', 'industri', 'manufactur', 'character', 'seventh-largest', 'landscap', 'festiv', 'world', 'like', 'democrat', 'asia', 'rich', 'locat', 'economi', 'fastest-grow', 'agricultur', 'icon', 'histori', 'taj']\n",
      "64\n"
     ]
    }
   ],
   "source": [
    "stemmed_words = [stemmer.stem(word) for word in words]\n",
    "print(stemmed_words)\n",
    "print(len(stemmed_words))"
   ]
  },
  {
   "cell_type": "markdown",
   "metadata": {},
   "source": [
    "## Vectorization"
   ]
  },
  {
   "cell_type": "markdown",
   "metadata": {},
   "source": [
    "Assigning unique numbers to each unique words"
   ]
  },
  {
   "cell_type": "code",
   "execution_count": 23,
   "metadata": {},
   "outputs": [],
   "source": [
    "from tensorflow.keras.preprocessing.text import Tokenizer"
   ]
  },
  {
   "cell_type": "code",
   "execution_count": 26,
   "metadata": {},
   "outputs": [
    {
     "data": {
      "text/plain": [
       "{'political': 1,\n",
       " 'system': 2,\n",
       " 'delicious': 3,\n",
       " 'people': 4,\n",
       " 'cultural': 5,\n",
       " 'information': 6,\n",
       " 'rule': 7,\n",
       " 'featuring': 8,\n",
       " 'land': 9,\n",
       " 'complex': 10,\n",
       " 'parliamentary': 11,\n",
       " 'known': 12,\n",
       " 'biryani': 13,\n",
       " 'diverse': 14,\n",
       " 'shaped': 15,\n",
       " 'area': 16,\n",
       " 'holi': 17,\n",
       " '1': 18,\n",
       " '3': 19,\n",
       " 'india': 20,\n",
       " \"'s\": 21,\n",
       " 'cuisine': 22,\n",
       " 'second': 23,\n",
       " 'most': 24,\n",
       " 'curry': 25,\n",
       " 'movement': 26,\n",
       " 'boast': 27,\n",
       " 'dynasty': 28,\n",
       " 'heritage': 29,\n",
       " 'country': 30,\n",
       " 'mahal': 31,\n",
       " 'dish': 32,\n",
       " 'colonial': 33,\n",
       " 'landmark': 34,\n",
       " 'religion': 35,\n",
       " 'billion': 36,\n",
       " 'language': 37,\n",
       " 'tradition': 38,\n",
       " 'vibrant': 39,\n",
       " 'independence': 40,\n",
       " 'one': 41,\n",
       " 'diwali': 42,\n",
       " 'populous': 43,\n",
       " 'various': 44,\n",
       " 'south': 45,\n",
       " 'driven': 46,\n",
       " 'technology': 47,\n",
       " 'home': 48,\n",
       " 'industry': 49,\n",
       " 'manufacturing': 50,\n",
       " 'characterized': 51,\n",
       " 'seventh': 52,\n",
       " 'largest': 53,\n",
       " 'landscape': 54,\n",
       " 'festival': 55,\n",
       " 'world': 56,\n",
       " 'like': 57,\n",
       " 'democratic': 58,\n",
       " 'asia': 59,\n",
       " 'rich': 60,\n",
       " 'located': 61,\n",
       " 'economy': 62,\n",
       " 'fastest': 63,\n",
       " 'growing': 64,\n",
       " 'agriculture': 65,\n",
       " 'iconic': 66,\n",
       " 'history': 67,\n",
       " 'taj': 68}"
      ]
     },
     "execution_count": 26,
     "metadata": {},
     "output_type": "execute_result"
    }
   ],
   "source": [
    "token = Tokenizer()\n",
    "\n",
    "token.fit_on_texts(laminated_words)\n",
    "\n",
    "token.word_index"
   ]
  },
  {
   "cell_type": "code",
   "execution_count": 28,
   "metadata": {},
   "outputs": [
    {
     "data": {
      "text/plain": [
       "[[20, 61, 45, 59, 52, 53, 30, 9, 16, 23, 24, 43, 30, 48, 18, 19, 36, 4],\n",
       " [60, 5, 29, 51, 14],\n",
       " [62, 41, 63, 64, 56, 46, 6, 47, 65, 50],\n",
       " [30, 12, 66, 68, 31, 39, 57, 42, 17, 3, 22, 8, 57, 13, 25],\n",
       " [1, 54, 10, 11, 58, 2, 67, 15, 44, 33, 7, 40]]"
      ]
     },
     "execution_count": 28,
     "metadata": {},
     "output_type": "execute_result"
    }
   ],
   "source": [
    "# How all 5 lines will be vectored\n",
    "token.texts_to_sequences(sentences)"
   ]
  }
 ],
 "metadata": {
  "kernelspec": {
   "display_name": "Python 3",
   "language": "python",
   "name": "python3"
  },
  "language_info": {
   "codemirror_mode": {
    "name": "ipython",
    "version": 3
   },
   "file_extension": ".py",
   "mimetype": "text/x-python",
   "name": "python",
   "nbconvert_exporter": "python",
   "pygments_lexer": "ipython3",
   "version": "3.11.3"
  }
 },
 "nbformat": 4,
 "nbformat_minor": 2
}
