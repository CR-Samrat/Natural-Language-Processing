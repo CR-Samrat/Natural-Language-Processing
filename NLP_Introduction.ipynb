{
 "cells": [
  {
   "cell_type": "code",
   "execution_count": 14,
   "metadata": {},
   "outputs": [],
   "source": [
    "import nltk\n",
    "\n",
    "# nltk.download('wordnet')"
   ]
  },
  {
   "cell_type": "markdown",
   "metadata": {},
   "source": [
    "## Input (Text)"
   ]
  },
  {
   "cell_type": "code",
   "execution_count": 15,
   "metadata": {},
   "outputs": [],
   "source": [
    "text = \"India, located in South Asia, is the world's seventh-largest country by land area and the second-most populous country, home to over 1.3 billion people. It boasts a rich cultural heritage, characterized by its diverse languages, religions, and traditions. India's economy is one of the fastest-growing in the world, driven by industries such as information technology, agriculture, and manufacturing. The country is known for its iconic landmarks such as the Taj Mahal, vibrant festivals like Diwali and Holi, and delicious cuisine featuring dishes like biryani and curry. India's political landscape is complex, with a parliamentary democratic system and a history shaped by various dynasties, colonial rule, and independence movements.\""
   ]
  },
  {
   "cell_type": "markdown",
   "metadata": {},
   "source": [
    "## Words and sentences tokenization (separation)"
   ]
  },
  {
   "cell_type": "code",
   "execution_count": 16,
   "metadata": {},
   "outputs": [],
   "source": [
    "from nltk.tokenize import word_tokenize, sent_tokenize"
   ]
  },
  {
   "cell_type": "code",
   "execution_count": 17,
   "metadata": {},
   "outputs": [
    {
     "name": "stdout",
     "output_type": "stream",
     "text": [
      "1 . India, located in South Asia, is the world's seventh-largest country by land area and the second-most populous country, home to over 1.3 billion people.\n",
      "2 . It boasts a rich cultural heritage, characterized by its diverse languages, religions, and traditions.\n",
      "3 . India's economy is one of the fastest-growing in the world, driven by industries such as information technology, agriculture, and manufacturing.\n",
      "4 . The country is known for its iconic landmarks such as the Taj Mahal, vibrant festivals like Diwali and Holi, and delicious cuisine featuring dishes like biryani and curry.\n",
      "5 . India's political landscape is complex, with a parliamentary democratic system and a history shaped by various dynasties, colonial rule, and independence movements.\n"
     ]
    }
   ],
   "source": [
    "sentences = sent_tokenize(text)\n",
    "\n",
    "for idx, sentence in enumerate(sentences):\n",
    "    print(idx+1,\".\",sentence)"
   ]
  },
  {
   "cell_type": "code",
   "execution_count": 18,
   "metadata": {},
   "outputs": [
    {
     "name": "stdout",
     "output_type": "stream",
     "text": [
      "India\n",
      ",\n",
      "located\n",
      "in\n",
      "South\n",
      "Asia\n",
      ",\n",
      "is\n",
      "the\n",
      "world\n",
      "'s\n",
      "seventh-largest\n",
      "country\n",
      "by\n",
      "land\n",
      "area\n",
      "and\n",
      "the\n",
      "second-most\n",
      "populous\n",
      "country\n",
      ",\n",
      "home\n",
      "to\n",
      "over\n",
      "1.3\n",
      "billion\n",
      "people\n",
      ".\n",
      "It\n",
      "boasts\n",
      "a\n",
      "rich\n",
      "cultural\n",
      "heritage\n",
      ",\n",
      "characterized\n",
      "by\n",
      "its\n",
      "diverse\n",
      "languages\n",
      ",\n",
      "religions\n",
      ",\n",
      "and\n",
      "traditions\n",
      ".\n",
      "India\n",
      "'s\n",
      "economy\n",
      "is\n",
      "one\n",
      "of\n",
      "the\n",
      "fastest-growing\n",
      "in\n",
      "the\n",
      "world\n",
      ",\n",
      "driven\n",
      "by\n",
      "industries\n",
      "such\n",
      "as\n",
      "information\n",
      "technology\n",
      ",\n",
      "agriculture\n",
      ",\n",
      "and\n",
      "manufacturing\n",
      ".\n",
      "The\n",
      "country\n",
      "is\n",
      "known\n",
      "for\n",
      "its\n",
      "iconic\n",
      "landmarks\n",
      "such\n",
      "as\n",
      "the\n",
      "Taj\n",
      "Mahal\n",
      ",\n",
      "vibrant\n",
      "festivals\n",
      "like\n",
      "Diwali\n",
      "and\n",
      "Holi\n",
      ",\n",
      "and\n",
      "delicious\n",
      "cuisine\n",
      "featuring\n",
      "dishes\n",
      "like\n",
      "biryani\n",
      "and\n",
      "curry\n",
      ".\n",
      "India\n",
      "'s\n",
      "political\n",
      "landscape\n",
      "is\n",
      "complex\n",
      ",\n",
      "with\n",
      "a\n",
      "parliamentary\n",
      "democratic\n",
      "system\n",
      "and\n",
      "a\n",
      "history\n",
      "shaped\n",
      "by\n",
      "various\n",
      "dynasties\n",
      ",\n",
      "colonial\n",
      "rule\n",
      ",\n",
      "and\n",
      "independence\n",
      "movements\n",
      ".\n",
      "Total words 130\n"
     ]
    }
   ],
   "source": [
    "words = word_tokenize(text)\n",
    "\n",
    "for word in words:\n",
    "    print(word)\n",
    "\n",
    "print(\"Total words\",len(words))"
   ]
  },
  {
   "cell_type": "markdown",
   "metadata": {},
   "source": [
    "## Stopwords"
   ]
  },
  {
   "cell_type": "markdown",
   "metadata": {},
   "source": [
    "Stopwords are those irrelevant words that can be removed from a sentence without changing its meaning"
   ]
  },
  {
   "cell_type": "code",
   "execution_count": 19,
   "metadata": {},
   "outputs": [],
   "source": [
    "from nltk.corpus import stopwords"
   ]
  },
  {
   "cell_type": "code",
   "execution_count": 20,
   "metadata": {},
   "outputs": [
    {
     "name": "stdout",
     "output_type": "stream",
     "text": [
      "['india', 'located', 'south', 'asia', 'world', \"'s\", 'seventh-largest', 'country', 'land', 'area', 'second-most', 'populous', 'country', 'home', '1.3', 'billion', 'people', 'boasts', 'rich', 'cultural', 'heritage', 'characterized', 'diverse', 'languages', 'religions', 'traditions', 'india', \"'s\", 'economy', 'one', 'fastest-growing', 'world', 'driven', 'industries', 'information', 'technology', 'agriculture', 'manufacturing', 'country', 'known', 'iconic', 'landmarks', 'taj', 'mahal', 'vibrant', 'festivals', 'like', 'diwali', 'holi', 'delicious', 'cuisine', 'featuring', 'dishes', 'like', 'biryani', 'curry', 'india', \"'s\", 'political', 'landscape', 'complex', 'parliamentary', 'democratic', 'system', 'history', 'shaped', 'various', 'dynasties', 'colonial', 'rule', 'independence', 'movements']\n",
      "Total 72 words\n"
     ]
    }
   ],
   "source": [
    "new_words = []\n",
    "\n",
    "for word in words:\n",
    "    if word.lower() not in stopwords.words('english') and len(word) > 1:\n",
    "        new_words.append(word.lower())\n",
    "\n",
    "print(new_words)\n",
    "print(\"Total\",len(new_words),\"words\")"
   ]
  },
  {
   "cell_type": "markdown",
   "metadata": {},
   "source": [
    "## Remove duplicate words"
   ]
  },
  {
   "cell_type": "code",
   "execution_count": 21,
   "metadata": {},
   "outputs": [
    {
     "name": "stdout",
     "output_type": "stream",
     "text": [
      "64\n"
     ]
    },
    {
     "data": {
      "text/plain": [
       "['country',\n",
       " 'biryani',\n",
       " 'india',\n",
       " 'history',\n",
       " 'asia',\n",
       " 'festivals',\n",
       " 'languages',\n",
       " 'mahal',\n",
       " 'land',\n",
       " 'landscape',\n",
       " 'characterized',\n",
       " 'system',\n",
       " 'diwali',\n",
       " 'dishes',\n",
       " 'diverse',\n",
       " 'delicious',\n",
       " 'industries',\n",
       " 'billion',\n",
       " 'democratic',\n",
       " 'driven',\n",
       " 'located',\n",
       " 'populous',\n",
       " 'cultural',\n",
       " 'dynasties',\n",
       " 'various',\n",
       " 'world',\n",
       " 'colonial',\n",
       " 'south',\n",
       " 'known',\n",
       " 'complex',\n",
       " 'independence',\n",
       " 'political',\n",
       " 'agriculture',\n",
       " 'rule',\n",
       " 'information',\n",
       " 'landmarks',\n",
       " 'vibrant',\n",
       " 'movements',\n",
       " 'seventh-largest',\n",
       " 'fastest-growing',\n",
       " 'boasts',\n",
       " 'iconic',\n",
       " 'featuring',\n",
       " \"'s\",\n",
       " 'parliamentary',\n",
       " 'holi',\n",
       " 'one',\n",
       " 'second-most',\n",
       " '1.3',\n",
       " 'rich',\n",
       " 'home',\n",
       " 'like',\n",
       " 'shaped',\n",
       " 'taj',\n",
       " 'religions',\n",
       " 'heritage',\n",
       " 'traditions',\n",
       " 'area',\n",
       " 'technology',\n",
       " 'manufacturing',\n",
       " 'economy',\n",
       " 'cuisine',\n",
       " 'curry',\n",
       " 'people']"
      ]
     },
     "execution_count": 21,
     "metadata": {},
     "output_type": "execute_result"
    }
   ],
   "source": [
    "words = list(set(new_words))\n",
    "\n",
    "print(len(words))\n",
    "words"
   ]
  },
  {
   "cell_type": "markdown",
   "metadata": {},
   "source": [
    "## Lamination and Stemmer"
   ]
  },
  {
   "cell_type": "markdown",
   "metadata": {},
   "source": [
    "Both are used to get the root words but Lamination is more accurate but it takes huge time than stemmer"
   ]
  },
  {
   "cell_type": "code",
   "execution_count": 22,
   "metadata": {},
   "outputs": [],
   "source": [
    "from nltk.stem import WordNetLemmatizer, PorterStemmer"
   ]
  },
  {
   "cell_type": "code",
   "execution_count": 23,
   "metadata": {},
   "outputs": [],
   "source": [
    "lamination = WordNetLemmatizer()\n",
    "stemmer = PorterStemmer()"
   ]
  },
  {
   "cell_type": "code",
   "execution_count": 24,
   "metadata": {},
   "outputs": [
    {
     "name": "stdout",
     "output_type": "stream",
     "text": [
      "['country', 'biryani', 'india', 'history', 'asia', 'festival', 'language', 'mahal', 'land', 'landscape', 'characterized', 'system', 'diwali', 'dish', 'diverse', 'delicious', 'industry', 'billion', 'democratic', 'driven', 'located', 'populous', 'cultural', 'dynasty', 'various', 'world', 'colonial', 'south', 'known', 'complex', 'independence', 'political', 'agriculture', 'rule', 'information', 'landmark', 'vibrant', 'movement', 'seventh-largest', 'fastest-growing', 'boast', 'iconic', 'featuring', \"'s\", 'parliamentary', 'holi', 'one', 'second-most', '1.3', 'rich', 'home', 'like', 'shaped', 'taj', 'religion', 'heritage', 'tradition', 'area', 'technology', 'manufacturing', 'economy', 'cuisine', 'curry', 'people']\n",
      "64\n"
     ]
    }
   ],
   "source": [
    "laminated_words = [lamination.lemmatize(word) for word in words]\n",
    "print(laminated_words)\n",
    "print(len(laminated_words))"
   ]
  },
  {
   "cell_type": "code",
   "execution_count": 25,
   "metadata": {},
   "outputs": [
    {
     "name": "stdout",
     "output_type": "stream",
     "text": [
      "['countri', 'biryani', 'india', 'histori', 'asia', 'festiv', 'languag', 'mahal', 'land', 'landscap', 'character', 'system', 'diwali', 'dish', 'divers', 'delici', 'industri', 'billion', 'democrat', 'driven', 'locat', 'popul', 'cultur', 'dynasti', 'variou', 'world', 'coloni', 'south', 'known', 'complex', 'independ', 'polit', 'agricultur', 'rule', 'inform', 'landmark', 'vibrant', 'movement', 'seventh-largest', 'fastest-grow', 'boast', 'icon', 'featur', \"'s\", 'parliamentari', 'holi', 'one', 'second-most', '1.3', 'rich', 'home', 'like', 'shape', 'taj', 'religion', 'heritag', 'tradit', 'area', 'technolog', 'manufactur', 'economi', 'cuisin', 'curri', 'peopl']\n",
      "64\n"
     ]
    }
   ],
   "source": [
    "stemmed_words = [stemmer.stem(word) for word in words]\n",
    "print(stemmed_words)\n",
    "print(len(stemmed_words))"
   ]
  },
  {
   "cell_type": "markdown",
   "metadata": {},
   "source": [
    "## Vectorization"
   ]
  },
  {
   "cell_type": "markdown",
   "metadata": {},
   "source": [
    "Assigning unique numbers to each unique words"
   ]
  },
  {
   "cell_type": "code",
   "execution_count": 26,
   "metadata": {},
   "outputs": [],
   "source": [
    "from tensorflow.keras.preprocessing.text import Tokenizer"
   ]
  },
  {
   "cell_type": "code",
   "execution_count": 27,
   "metadata": {},
   "outputs": [
    {
     "data": {
      "text/plain": [
       "{'country': 1,\n",
       " 'biryani': 2,\n",
       " 'india': 3,\n",
       " 'history': 4,\n",
       " 'asia': 5,\n",
       " 'festival': 6,\n",
       " 'language': 7,\n",
       " 'mahal': 8,\n",
       " 'land': 9,\n",
       " 'landscape': 10,\n",
       " 'characterized': 11,\n",
       " 'system': 12,\n",
       " 'diwali': 13,\n",
       " 'dish': 14,\n",
       " 'diverse': 15,\n",
       " 'delicious': 16,\n",
       " 'industry': 17,\n",
       " 'billion': 18,\n",
       " 'democratic': 19,\n",
       " 'driven': 20,\n",
       " 'located': 21,\n",
       " 'populous': 22,\n",
       " 'cultural': 23,\n",
       " 'dynasty': 24,\n",
       " 'various': 25,\n",
       " 'world': 26,\n",
       " 'colonial': 27,\n",
       " 'south': 28,\n",
       " 'known': 29,\n",
       " 'complex': 30,\n",
       " 'independence': 31,\n",
       " 'political': 32,\n",
       " 'agriculture': 33,\n",
       " 'rule': 34,\n",
       " 'information': 35,\n",
       " 'landmark': 36,\n",
       " 'vibrant': 37,\n",
       " 'movement': 38,\n",
       " 'seventh': 39,\n",
       " 'largest': 40,\n",
       " 'fastest': 41,\n",
       " 'growing': 42,\n",
       " 'boast': 43,\n",
       " 'iconic': 44,\n",
       " 'featuring': 45,\n",
       " \"'s\": 46,\n",
       " 'parliamentary': 47,\n",
       " 'holi': 48,\n",
       " 'one': 49,\n",
       " 'second': 50,\n",
       " 'most': 51,\n",
       " '1': 52,\n",
       " '3': 53,\n",
       " 'rich': 54,\n",
       " 'home': 55,\n",
       " 'like': 56,\n",
       " 'shaped': 57,\n",
       " 'taj': 58,\n",
       " 'religion': 59,\n",
       " 'heritage': 60,\n",
       " 'tradition': 61,\n",
       " 'area': 62,\n",
       " 'technology': 63,\n",
       " 'manufacturing': 64,\n",
       " 'economy': 65,\n",
       " 'cuisine': 66,\n",
       " 'curry': 67,\n",
       " 'people': 68}"
      ]
     },
     "execution_count": 27,
     "metadata": {},
     "output_type": "execute_result"
    }
   ],
   "source": [
    "token = Tokenizer()\n",
    "\n",
    "token.fit_on_texts(laminated_words)\n",
    "\n",
    "token.word_index"
   ]
  },
  {
   "cell_type": "code",
   "execution_count": 28,
   "metadata": {},
   "outputs": [
    {
     "data": {
      "text/plain": [
       "[[3, 21, 28, 5, 39, 40, 1, 9, 62, 50, 51, 22, 1, 55, 52, 53, 18, 68],\n",
       " [54, 23, 60, 11, 15],\n",
       " [65, 49, 41, 42, 26, 20, 35, 63, 33, 64],\n",
       " [1, 29, 44, 58, 8, 37, 56, 13, 48, 16, 66, 45, 56, 2, 67],\n",
       " [32, 10, 30, 47, 19, 12, 4, 57, 25, 27, 34, 31]]"
      ]
     },
     "execution_count": 28,
     "metadata": {},
     "output_type": "execute_result"
    }
   ],
   "source": [
    "# How all 5 lines will be vectored\n",
    "token.texts_to_sequences(sentences)"
   ]
  },
  {
   "cell_type": "markdown",
   "metadata": {},
   "source": [
    "## Synonyms and Antonyms"
   ]
  },
  {
   "cell_type": "code",
   "execution_count": 29,
   "metadata": {},
   "outputs": [],
   "source": [
    "from nltk.corpus import wordnet"
   ]
  },
  {
   "cell_type": "code",
   "execution_count": 65,
   "metadata": {},
   "outputs": [],
   "source": [
    "def get_synonyms(text):\n",
    "    synonyms = []\n",
    "    for s in wordnet.synsets(text):\n",
    "        for lemma in s.lemmas():\n",
    "            synonyms.append(lemma.name())\n",
    "\n",
    "    print(list(set(synonyms)))"
   ]
  },
  {
   "cell_type": "code",
   "execution_count": 58,
   "metadata": {},
   "outputs": [],
   "source": [
    "def get_antonyms(text):\n",
    "    antonyms = []\n",
    "    for s in wordnet.synsets(text):\n",
    "        for lemma in s.lemmas():\n",
    "            if lemma.antonyms():\n",
    "                antonyms.append(lemma.antonyms()[0].name())\n",
    "\n",
    "    print(list(set(antonyms)))"
   ]
  },
  {
   "cell_type": "code",
   "execution_count": 77,
   "metadata": {},
   "outputs": [],
   "source": [
    "def get_definition(text):\n",
    "    definition = wordnet.synsets(text)[0].definition()\n",
    "    return definition"
   ]
  },
  {
   "cell_type": "code",
   "execution_count": 66,
   "metadata": {},
   "outputs": [
    {
     "name": "stdout",
     "output_type": "stream",
     "text": [
      "['regretful', 'high-risk', 'uncollectible', 'badness', 'unfit', 'unsound', 'risky', 'speculative', 'defective', 'spoilt', 'spoiled', 'badly', 'tough', 'forged', 'bad', 'big', 'sorry']\n"
     ]
    }
   ],
   "source": [
    "get_synonyms(\"Bad\")"
   ]
  },
  {
   "cell_type": "code",
   "execution_count": 63,
   "metadata": {},
   "outputs": [
    {
     "name": "stdout",
     "output_type": "stream",
     "text": [
      "['unregretful', 'good', 'goodness']\n"
     ]
    }
   ],
   "source": [
    "get_antonyms(\"Bad\")"
   ]
  },
  {
   "cell_type": "code",
   "execution_count": 78,
   "metadata": {},
   "outputs": [
    {
     "data": {
      "text/plain": [
       "'that which is below standard or expectations as of ethics or decency'"
      ]
     },
     "execution_count": 78,
     "metadata": {},
     "output_type": "execute_result"
    }
   ],
   "source": [
    "get_definition(\"Bad\")"
   ]
  }
 ],
 "metadata": {
  "kernelspec": {
   "display_name": "Python 3",
   "language": "python",
   "name": "python3"
  },
  "language_info": {
   "codemirror_mode": {
    "name": "ipython",
    "version": 3
   },
   "file_extension": ".py",
   "mimetype": "text/x-python",
   "name": "python",
   "nbconvert_exporter": "python",
   "pygments_lexer": "ipython3",
   "version": "3.11.3"
  }
 },
 "nbformat": 4,
 "nbformat_minor": 2
}
