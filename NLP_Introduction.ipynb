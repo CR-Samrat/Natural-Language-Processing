{
 "cells": [
  {
   "cell_type": "code",
   "execution_count": 2,
   "metadata": {},
   "outputs": [],
   "source": [
    "import nltk\n",
    "\n",
    "# nltk.download('wordnet')"
   ]
  },
  {
   "cell_type": "markdown",
   "metadata": {},
   "source": [
    "## Input (Text)"
   ]
  },
  {
   "cell_type": "code",
   "execution_count": 3,
   "metadata": {},
   "outputs": [],
   "source": [
    "text = \"India, located in South Asia, is the world's seventh-largest country by land area and the second-most populous country, home to over 1.3 billion people. It boasts a rich cultural heritage, characterized by its diverse languages, religions, and traditions. India's economy is one of the fastest-growing in the world, driven by industries such as information technology, agriculture, and manufacturing. The country is known for its iconic landmarks such as the Taj Mahal, vibrant festivals like Diwali and Holi, and delicious cuisine featuring dishes like biryani and curry. India's political landscape is complex, with a parliamentary democratic system and a history shaped by various dynasties, colonial rule, and independence movements.\""
   ]
  },
  {
   "cell_type": "markdown",
   "metadata": {},
   "source": [
    "## Words and sentences tokenization (separation)"
   ]
  },
  {
   "cell_type": "code",
   "execution_count": 4,
   "metadata": {},
   "outputs": [],
   "source": [
    "from nltk.tokenize import word_tokenize, sent_tokenize"
   ]
  },
  {
   "cell_type": "code",
   "execution_count": 5,
   "metadata": {},
   "outputs": [
    {
     "name": "stdout",
     "output_type": "stream",
     "text": [
      "1 . India, located in South Asia, is the world's seventh-largest country by land area and the second-most populous country, home to over 1.3 billion people.\n",
      "2 . It boasts a rich cultural heritage, characterized by its diverse languages, religions, and traditions.\n",
      "3 . India's economy is one of the fastest-growing in the world, driven by industries such as information technology, agriculture, and manufacturing.\n",
      "4 . The country is known for its iconic landmarks such as the Taj Mahal, vibrant festivals like Diwali and Holi, and delicious cuisine featuring dishes like biryani and curry.\n",
      "5 . India's political landscape is complex, with a parliamentary democratic system and a history shaped by various dynasties, colonial rule, and independence movements.\n"
     ]
    }
   ],
   "source": [
    "sentences = sent_tokenize(text)\n",
    "\n",
    "for idx, sentence in enumerate(sentences):\n",
    "    print(idx+1,\".\",sentence)"
   ]
  },
  {
   "cell_type": "code",
   "execution_count": 6,
   "metadata": {},
   "outputs": [
    {
     "name": "stdout",
     "output_type": "stream",
     "text": [
      "India\n",
      ",\n",
      "located\n",
      "in\n",
      "South\n",
      "Asia\n",
      ",\n",
      "is\n",
      "the\n",
      "world\n",
      "'s\n",
      "seventh-largest\n",
      "country\n",
      "by\n",
      "land\n",
      "area\n",
      "and\n",
      "the\n",
      "second-most\n",
      "populous\n",
      "country\n",
      ",\n",
      "home\n",
      "to\n",
      "over\n",
      "1.3\n",
      "billion\n",
      "people\n",
      ".\n",
      "It\n",
      "boasts\n",
      "a\n",
      "rich\n",
      "cultural\n",
      "heritage\n",
      ",\n",
      "characterized\n",
      "by\n",
      "its\n",
      "diverse\n",
      "languages\n",
      ",\n",
      "religions\n",
      ",\n",
      "and\n",
      "traditions\n",
      ".\n",
      "India\n",
      "'s\n",
      "economy\n",
      "is\n",
      "one\n",
      "of\n",
      "the\n",
      "fastest-growing\n",
      "in\n",
      "the\n",
      "world\n",
      ",\n",
      "driven\n",
      "by\n",
      "industries\n",
      "such\n",
      "as\n",
      "information\n",
      "technology\n",
      ",\n",
      "agriculture\n",
      ",\n",
      "and\n",
      "manufacturing\n",
      ".\n",
      "The\n",
      "country\n",
      "is\n",
      "known\n",
      "for\n",
      "its\n",
      "iconic\n",
      "landmarks\n",
      "such\n",
      "as\n",
      "the\n",
      "Taj\n",
      "Mahal\n",
      ",\n",
      "vibrant\n",
      "festivals\n",
      "like\n",
      "Diwali\n",
      "and\n",
      "Holi\n",
      ",\n",
      "and\n",
      "delicious\n",
      "cuisine\n",
      "featuring\n",
      "dishes\n",
      "like\n",
      "biryani\n",
      "and\n",
      "curry\n",
      ".\n",
      "India\n",
      "'s\n",
      "political\n",
      "landscape\n",
      "is\n",
      "complex\n",
      ",\n",
      "with\n",
      "a\n",
      "parliamentary\n",
      "democratic\n",
      "system\n",
      "and\n",
      "a\n",
      "history\n",
      "shaped\n",
      "by\n",
      "various\n",
      "dynasties\n",
      ",\n",
      "colonial\n",
      "rule\n",
      ",\n",
      "and\n",
      "independence\n",
      "movements\n",
      ".\n",
      "Total words 130\n"
     ]
    }
   ],
   "source": [
    "words = word_tokenize(text)\n",
    "\n",
    "for word in words:\n",
    "    print(word)\n",
    "\n",
    "print(\"Total words\",len(words))"
   ]
  },
  {
   "cell_type": "markdown",
   "metadata": {},
   "source": [
    "## Stopwords"
   ]
  },
  {
   "cell_type": "markdown",
   "metadata": {},
   "source": [
    "Stopwords are those irrelevant words that can be removed from a sentence without changing its meaning"
   ]
  },
  {
   "cell_type": "code",
   "execution_count": 7,
   "metadata": {},
   "outputs": [],
   "source": [
    "from nltk.corpus import stopwords"
   ]
  },
  {
   "cell_type": "code",
   "execution_count": 8,
   "metadata": {},
   "outputs": [
    {
     "name": "stdout",
     "output_type": "stream",
     "text": [
      "['india', 'located', 'south', 'asia', 'world', \"'s\", 'seventh-largest', 'country', 'land', 'area', 'second-most', 'populous', 'country', 'home', '1.3', 'billion', 'people', 'boasts', 'rich', 'cultural', 'heritage', 'characterized', 'diverse', 'languages', 'religions', 'traditions', 'india', \"'s\", 'economy', 'one', 'fastest-growing', 'world', 'driven', 'industries', 'information', 'technology', 'agriculture', 'manufacturing', 'country', 'known', 'iconic', 'landmarks', 'taj', 'mahal', 'vibrant', 'festivals', 'like', 'diwali', 'holi', 'delicious', 'cuisine', 'featuring', 'dishes', 'like', 'biryani', 'curry', 'india', \"'s\", 'political', 'landscape', 'complex', 'parliamentary', 'democratic', 'system', 'history', 'shaped', 'various', 'dynasties', 'colonial', 'rule', 'independence', 'movements']\n",
      "Total 72 words\n"
     ]
    }
   ],
   "source": [
    "new_words = []\n",
    "\n",
    "for word in words:\n",
    "    if word.lower() not in stopwords.words('english') and len(word) > 1:\n",
    "        new_words.append(word.lower())\n",
    "\n",
    "print(new_words)\n",
    "print(\"Total\",len(new_words),\"words\")"
   ]
  },
  {
   "cell_type": "markdown",
   "metadata": {},
   "source": [
    "## Remove duplicate words"
   ]
  },
  {
   "cell_type": "code",
   "execution_count": 9,
   "metadata": {},
   "outputs": [
    {
     "name": "stdout",
     "output_type": "stream",
     "text": [
      "64\n"
     ]
    },
    {
     "data": {
      "text/plain": [
       "['diwali',\n",
       " 'like',\n",
       " 'located',\n",
       " 'fastest-growing',\n",
       " 'iconic',\n",
       " \"'s\",\n",
       " 'vibrant',\n",
       " 'featuring',\n",
       " 'biryani',\n",
       " 'rich',\n",
       " 'industries',\n",
       " 'india',\n",
       " 'technology',\n",
       " 'landscape',\n",
       " '1.3',\n",
       " 'people',\n",
       " 'economy',\n",
       " 'asia',\n",
       " 'billion',\n",
       " 'driven',\n",
       " 'landmarks',\n",
       " 'system',\n",
       " 'world',\n",
       " 'boasts',\n",
       " 'traditions',\n",
       " 'complex',\n",
       " 'south',\n",
       " 'land',\n",
       " 'information',\n",
       " 'various',\n",
       " 'dynasties',\n",
       " 'history',\n",
       " 'festivals',\n",
       " 'democratic',\n",
       " 'religions',\n",
       " 'parliamentary',\n",
       " 'delicious',\n",
       " 'cuisine',\n",
       " 'known',\n",
       " 'languages',\n",
       " 'country',\n",
       " 'characterized',\n",
       " 'taj',\n",
       " 'political',\n",
       " 'holi',\n",
       " 'independence',\n",
       " 'home',\n",
       " 'area',\n",
       " 'agriculture',\n",
       " 'dishes',\n",
       " 'shaped',\n",
       " 'colonial',\n",
       " 'mahal',\n",
       " 'second-most',\n",
       " 'populous',\n",
       " 'cultural',\n",
       " 'manufacturing',\n",
       " 'diverse',\n",
       " 'curry',\n",
       " 'one',\n",
       " 'seventh-largest',\n",
       " 'rule',\n",
       " 'movements',\n",
       " 'heritage']"
      ]
     },
     "execution_count": 9,
     "metadata": {},
     "output_type": "execute_result"
    }
   ],
   "source": [
    "words = list(set(new_words))\n",
    "\n",
    "print(len(words))\n",
    "words"
   ]
  },
  {
   "cell_type": "markdown",
   "metadata": {},
   "source": [
    "## Lamination and Stemmer"
   ]
  },
  {
   "cell_type": "markdown",
   "metadata": {},
   "source": [
    "Both are used to get the root words but Lamination is more accurate but it takes huge time than stemmer"
   ]
  },
  {
   "cell_type": "code",
   "execution_count": 10,
   "metadata": {},
   "outputs": [],
   "source": [
    "from nltk.stem import WordNetLemmatizer, PorterStemmer"
   ]
  },
  {
   "cell_type": "code",
   "execution_count": 11,
   "metadata": {},
   "outputs": [],
   "source": [
    "lamination = WordNetLemmatizer()\n",
    "stemmer = PorterStemmer()"
   ]
  },
  {
   "cell_type": "code",
   "execution_count": 12,
   "metadata": {},
   "outputs": [
    {
     "name": "stdout",
     "output_type": "stream",
     "text": [
      "['diwali', 'like', 'located', 'fastest-growing', 'iconic', \"'s\", 'vibrant', 'featuring', 'biryani', 'rich', 'industry', 'india', 'technology', 'landscape', '1.3', 'people', 'economy', 'asia', 'billion', 'driven', 'landmark', 'system', 'world', 'boast', 'tradition', 'complex', 'south', 'land', 'information', 'various', 'dynasty', 'history', 'festival', 'democratic', 'religion', 'parliamentary', 'delicious', 'cuisine', 'known', 'language', 'country', 'characterized', 'taj', 'political', 'holi', 'independence', 'home', 'area', 'agriculture', 'dish', 'shaped', 'colonial', 'mahal', 'second-most', 'populous', 'cultural', 'manufacturing', 'diverse', 'curry', 'one', 'seventh-largest', 'rule', 'movement', 'heritage']\n",
      "64\n"
     ]
    }
   ],
   "source": [
    "laminated_words = [lamination.lemmatize(word) for word in words]\n",
    "print(laminated_words)\n",
    "print(len(laminated_words))"
   ]
  },
  {
   "cell_type": "code",
   "execution_count": 13,
   "metadata": {},
   "outputs": [
    {
     "name": "stdout",
     "output_type": "stream",
     "text": [
      "['diwali', 'like', 'locat', 'fastest-grow', 'icon', \"'s\", 'vibrant', 'featur', 'biryani', 'rich', 'industri', 'india', 'technolog', 'landscap', '1.3', 'peopl', 'economi', 'asia', 'billion', 'driven', 'landmark', 'system', 'world', 'boast', 'tradit', 'complex', 'south', 'land', 'inform', 'variou', 'dynasti', 'histori', 'festiv', 'democrat', 'religion', 'parliamentari', 'delici', 'cuisin', 'known', 'languag', 'countri', 'character', 'taj', 'polit', 'holi', 'independ', 'home', 'area', 'agricultur', 'dish', 'shape', 'coloni', 'mahal', 'second-most', 'popul', 'cultur', 'manufactur', 'divers', 'curri', 'one', 'seventh-largest', 'rule', 'movement', 'heritag']\n",
      "64\n"
     ]
    }
   ],
   "source": [
    "stemmed_words = [stemmer.stem(word) for word in words]\n",
    "print(stemmed_words)\n",
    "print(len(stemmed_words))"
   ]
  },
  {
   "cell_type": "markdown",
   "metadata": {},
   "source": [
    "## Vectorization"
   ]
  },
  {
   "cell_type": "markdown",
   "metadata": {},
   "source": [
    "Assigning unique numbers to each unique words"
   ]
  },
  {
   "cell_type": "code",
   "execution_count": 14,
   "metadata": {},
   "outputs": [
    {
     "name": "stdout",
     "output_type": "stream",
     "text": [
      "WARNING:tensorflow:From C:\\Users\\Subhadeep_Sarkar\\AppData\\Roaming\\Python\\Python311\\site-packages\\keras\\src\\losses.py:2976: The name tf.losses.sparse_softmax_cross_entropy is deprecated. Please use tf.compat.v1.losses.sparse_softmax_cross_entropy instead.\n",
      "\n"
     ]
    }
   ],
   "source": [
    "from tensorflow.keras.preprocessing.text import Tokenizer"
   ]
  },
  {
   "cell_type": "code",
   "execution_count": 15,
   "metadata": {},
   "outputs": [
    {
     "data": {
      "text/plain": [
       "{'diwali': 1,\n",
       " 'like': 2,\n",
       " 'located': 3,\n",
       " 'fastest': 4,\n",
       " 'growing': 5,\n",
       " 'iconic': 6,\n",
       " \"'s\": 7,\n",
       " 'vibrant': 8,\n",
       " 'featuring': 9,\n",
       " 'biryani': 10,\n",
       " 'rich': 11,\n",
       " 'industry': 12,\n",
       " 'india': 13,\n",
       " 'technology': 14,\n",
       " 'landscape': 15,\n",
       " '1': 16,\n",
       " '3': 17,\n",
       " 'people': 18,\n",
       " 'economy': 19,\n",
       " 'asia': 20,\n",
       " 'billion': 21,\n",
       " 'driven': 22,\n",
       " 'landmark': 23,\n",
       " 'system': 24,\n",
       " 'world': 25,\n",
       " 'boast': 26,\n",
       " 'tradition': 27,\n",
       " 'complex': 28,\n",
       " 'south': 29,\n",
       " 'land': 30,\n",
       " 'information': 31,\n",
       " 'various': 32,\n",
       " 'dynasty': 33,\n",
       " 'history': 34,\n",
       " 'festival': 35,\n",
       " 'democratic': 36,\n",
       " 'religion': 37,\n",
       " 'parliamentary': 38,\n",
       " 'delicious': 39,\n",
       " 'cuisine': 40,\n",
       " 'known': 41,\n",
       " 'language': 42,\n",
       " 'country': 43,\n",
       " 'characterized': 44,\n",
       " 'taj': 45,\n",
       " 'political': 46,\n",
       " 'holi': 47,\n",
       " 'independence': 48,\n",
       " 'home': 49,\n",
       " 'area': 50,\n",
       " 'agriculture': 51,\n",
       " 'dish': 52,\n",
       " 'shaped': 53,\n",
       " 'colonial': 54,\n",
       " 'mahal': 55,\n",
       " 'second': 56,\n",
       " 'most': 57,\n",
       " 'populous': 58,\n",
       " 'cultural': 59,\n",
       " 'manufacturing': 60,\n",
       " 'diverse': 61,\n",
       " 'curry': 62,\n",
       " 'one': 63,\n",
       " 'seventh': 64,\n",
       " 'largest': 65,\n",
       " 'rule': 66,\n",
       " 'movement': 67,\n",
       " 'heritage': 68}"
      ]
     },
     "execution_count": 15,
     "metadata": {},
     "output_type": "execute_result"
    }
   ],
   "source": [
    "token = Tokenizer()\n",
    "\n",
    "token.fit_on_texts(laminated_words)\n",
    "\n",
    "token.word_index"
   ]
  },
  {
   "cell_type": "code",
   "execution_count": 16,
   "metadata": {},
   "outputs": [
    {
     "data": {
      "text/plain": [
       "[[13, 3, 29, 20, 64, 65, 43, 30, 50, 56, 57, 58, 43, 49, 16, 17, 21, 18],\n",
       " [11, 59, 68, 44, 61],\n",
       " [19, 63, 4, 5, 25, 22, 31, 14, 51, 60],\n",
       " [43, 41, 6, 45, 55, 8, 2, 1, 47, 39, 40, 9, 2, 10, 62],\n",
       " [46, 15, 28, 38, 36, 24, 34, 53, 32, 54, 66, 48]]"
      ]
     },
     "execution_count": 16,
     "metadata": {},
     "output_type": "execute_result"
    }
   ],
   "source": [
    "# How all 5 lines will be vectored\n",
    "sequences = token.texts_to_sequences(sentences)\n",
    "\n",
    "sequences"
   ]
  },
  {
   "cell_type": "code",
   "execution_count": 24,
   "metadata": {},
   "outputs": [
    {
     "data": {
      "text/plain": [
       "array([[13,  3, 29, 20, 64, 65, 43, 30, 50, 56, 57, 58, 43, 49, 16, 17,\n",
       "        21, 18,  0,  0],\n",
       "       [11, 59, 68, 44, 61,  0,  0,  0,  0,  0,  0,  0,  0,  0,  0,  0,\n",
       "         0,  0,  0,  0],\n",
       "       [19, 63,  4,  5, 25, 22, 31, 14, 51, 60,  0,  0,  0,  0,  0,  0,\n",
       "         0,  0,  0,  0],\n",
       "       [43, 41,  6, 45, 55,  8,  2,  1, 47, 39, 40,  9,  2, 10, 62,  0,\n",
       "         0,  0,  0,  0],\n",
       "       [46, 15, 28, 38, 36, 24, 34, 53, 32, 54, 66, 48,  0,  0,  0,  0,\n",
       "         0,  0,  0,  0]])"
      ]
     },
     "execution_count": 24,
     "metadata": {},
     "output_type": "execute_result"
    }
   ],
   "source": [
    "# converting all the lines into the same length\n",
    "from tensorflow.keras.preprocessing.sequence import pad_sequences\n",
    "\n",
    "padded_sqeuence = pad_sequences(sequences, maxlen = 20, padding='post')\n",
    "\n",
    "padded_sqeuence"
   ]
  },
  {
   "cell_type": "markdown",
   "metadata": {},
   "source": [
    "## Synonyms and Antonyms"
   ]
  },
  {
   "cell_type": "code",
   "execution_count": 17,
   "metadata": {},
   "outputs": [],
   "source": [
    "from nltk.corpus import wordnet"
   ]
  },
  {
   "cell_type": "code",
   "execution_count": 18,
   "metadata": {},
   "outputs": [],
   "source": [
    "def get_synonyms(text):\n",
    "    synonyms = []\n",
    "    for s in wordnet.synsets(text):\n",
    "        for lemma in s.lemmas():\n",
    "            synonyms.append(lemma.name())\n",
    "\n",
    "    print(list(set(synonyms)))"
   ]
  },
  {
   "cell_type": "code",
   "execution_count": 19,
   "metadata": {},
   "outputs": [],
   "source": [
    "def get_antonyms(text):\n",
    "    antonyms = []\n",
    "    for s in wordnet.synsets(text):\n",
    "        for lemma in s.lemmas():\n",
    "            if lemma.antonyms():\n",
    "                antonyms.append(lemma.antonyms()[0].name())\n",
    "\n",
    "    print(list(set(antonyms)))"
   ]
  },
  {
   "cell_type": "code",
   "execution_count": 20,
   "metadata": {},
   "outputs": [],
   "source": [
    "def get_definition(text):\n",
    "    definition = wordnet.synsets(text)[0].definition()\n",
    "    return definition"
   ]
  },
  {
   "cell_type": "code",
   "execution_count": 21,
   "metadata": {},
   "outputs": [
    {
     "name": "stdout",
     "output_type": "stream",
     "text": [
      "['badly', 'unfit', 'high-risk', 'spoiled', 'uncollectible', 'tough', 'risky', 'forged', 'bad', 'unsound', 'big', 'speculative', 'badness', 'sorry', 'defective', 'spoilt', 'regretful']\n"
     ]
    }
   ],
   "source": [
    "get_synonyms(\"Bad\")"
   ]
  },
  {
   "cell_type": "code",
   "execution_count": 22,
   "metadata": {},
   "outputs": [
    {
     "name": "stdout",
     "output_type": "stream",
     "text": [
      "['unregretful', 'goodness', 'good']\n"
     ]
    }
   ],
   "source": [
    "get_antonyms(\"Bad\")"
   ]
  },
  {
   "cell_type": "code",
   "execution_count": 23,
   "metadata": {},
   "outputs": [
    {
     "data": {
      "text/plain": [
       "'that which is below standard or expectations as of ethics or decency'"
      ]
     },
     "execution_count": 23,
     "metadata": {},
     "output_type": "execute_result"
    }
   ],
   "source": [
    "get_definition(\"Bad\")"
   ]
  }
 ],
 "metadata": {
  "kernelspec": {
   "display_name": "Python 3",
   "language": "python",
   "name": "python3"
  },
  "language_info": {
   "codemirror_mode": {
    "name": "ipython",
    "version": 3
   },
   "file_extension": ".py",
   "mimetype": "text/x-python",
   "name": "python",
   "nbconvert_exporter": "python",
   "pygments_lexer": "ipython3",
   "version": "3.11.3"
  }
 },
 "nbformat": 4,
 "nbformat_minor": 2
}
