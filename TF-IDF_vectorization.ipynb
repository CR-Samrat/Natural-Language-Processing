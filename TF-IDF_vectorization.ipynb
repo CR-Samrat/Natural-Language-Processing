{
 "cells": [
  {
   "cell_type": "code",
   "execution_count": 163,
   "metadata": {},
   "outputs": [],
   "source": [
    "import nltk"
   ]
  },
  {
   "cell_type": "code",
   "execution_count": 164,
   "metadata": {},
   "outputs": [],
   "source": [
    "text = \"India is a large democracy. It is 7th largest country in the world. Also population wise it is the 2nd largest among all the countries in the world just after China.\""
   ]
  },
  {
   "cell_type": "code",
   "execution_count": 165,
   "metadata": {},
   "outputs": [
    {
     "data": {
      "text/plain": [
       "['India is a large democracy.',\n",
       " 'It is 7th largest country in the world.',\n",
       " 'Also population wise it is the 2nd largest among all the countries in the world just after China.']"
      ]
     },
     "execution_count": 165,
     "metadata": {},
     "output_type": "execute_result"
    }
   ],
   "source": [
    "sentences = nltk.tokenize.sent_tokenize(text)\n",
    "\n",
    "sentences"
   ]
  },
  {
   "cell_type": "code",
   "execution_count": 166,
   "metadata": {},
   "outputs": [
    {
     "data": {
      "text/plain": [
       "['India',\n",
       " 'is',\n",
       " 'a',\n",
       " 'large',\n",
       " 'democracy',\n",
       " '.',\n",
       " 'It',\n",
       " 'is',\n",
       " '7th',\n",
       " 'largest',\n",
       " 'country',\n",
       " 'in',\n",
       " 'the',\n",
       " 'world',\n",
       " '.',\n",
       " 'Also',\n",
       " 'population',\n",
       " 'wise',\n",
       " 'it',\n",
       " 'is',\n",
       " 'the',\n",
       " '2nd',\n",
       " 'largest',\n",
       " 'among',\n",
       " 'all',\n",
       " 'the',\n",
       " 'countries',\n",
       " 'in',\n",
       " 'the',\n",
       " 'world',\n",
       " 'just',\n",
       " 'after',\n",
       " 'China',\n",
       " '.']"
      ]
     },
     "execution_count": 166,
     "metadata": {},
     "output_type": "execute_result"
    }
   ],
   "source": [
    "words = nltk.tokenize.word_tokenize(text)\n",
    "\n",
    "words"
   ]
  },
  {
   "cell_type": "markdown",
   "metadata": {},
   "source": [
    "## Text Preprocessing"
   ]
  },
  {
   "cell_type": "code",
   "execution_count": 167,
   "metadata": {},
   "outputs": [],
   "source": [
    "import string"
   ]
  },
  {
   "cell_type": "code",
   "execution_count": 168,
   "metadata": {},
   "outputs": [
    {
     "name": "stdout",
     "output_type": "stream",
     "text": [
      "Punctuation words : !\"#$%&'()*+,-./:;<=>?@[\\]^_`{|}~\n"
     ]
    }
   ],
   "source": [
    "lam = nltk.stem.WordNetLemmatizer()\n",
    "\n",
    "def lemitization(text):\n",
    "    return [lam.lemmatize(txt) for txt in text.split()]\n",
    "\n",
    "print(\"Punctuation words :\",string.punctuation)\n",
    "\n",
    "remove_punc = dict((ord(char),None) for char in string.punctuation)\n",
    "\n",
    "def normalization(text):\n",
    "    return lemitization(text.lower().translate(remove_punc))"
   ]
  },
  {
   "cell_type": "code",
   "execution_count": 169,
   "metadata": {},
   "outputs": [
    {
     "name": "stdout",
     "output_type": "stream",
     "text": [
      "India is a large democracy.\n",
      "['India', 'is', 'a', 'large', 'democracy.']\n",
      "It is 7th largest country in the world.\n",
      "['It', 'is', '7th', 'largest', 'country', 'in', 'the', 'world.']\n",
      "Also population wise it is the 2nd largest among all the countries in the world just after China.\n",
      "['Also', 'population', 'wise', 'it', 'is', 'the', '2nd', 'largest', 'among', 'all', 'the', 'country', 'in', 'the', 'world', 'just', 'after', 'China.']\n"
     ]
    }
   ],
   "source": [
    "for sent in sentences:\n",
    "    print(sent)\n",
    "    print(lemitization(sent))"
   ]
  },
  {
   "cell_type": "code",
   "execution_count": 170,
   "metadata": {},
   "outputs": [
    {
     "data": {
      "text/plain": [
       "'hows my car'"
      ]
     },
     "execution_count": 170,
     "metadata": {},
     "output_type": "execute_result"
    }
   ],
   "source": [
    "test = \"How's my car?\"\n",
    "\n",
    "test.lower().translate(remove_punc)"
   ]
  },
  {
   "cell_type": "code",
   "execution_count": 171,
   "metadata": {},
   "outputs": [
    {
     "name": "stdout",
     "output_type": "stream",
     "text": [
      "India is a large democracy.\n",
      "['India', 'is', 'a', 'large', 'democracy.']\n",
      "It is 7th largest country in the world.\n",
      "['It', 'is', '7th', 'largest', 'country', 'in', 'the', 'world.']\n",
      "Also population wise it is the 2nd largest among all the countries in the world just after China.\n",
      "['Also', 'population', 'wise', 'it', 'is', 'the', '2nd', 'largest', 'among', 'all', 'the', 'country', 'in', 'the', 'world', 'just', 'after', 'China.']\n"
     ]
    }
   ],
   "source": [
    "for sent in sentences:\n",
    "    print(sent)\n",
    "    print(lemitization(sent))"
   ]
  },
  {
   "cell_type": "markdown",
   "metadata": {},
   "source": [
    "## TF-IDF Vectorization"
   ]
  },
  {
   "cell_type": "code",
   "execution_count": 172,
   "metadata": {},
   "outputs": [],
   "source": [
    "from sklearn.feature_extraction.text import TfidfVectorizer\n",
    "from sklearn.metrics.pairwise import cosine_similarity"
   ]
  },
  {
   "cell_type": "code",
   "execution_count": 173,
   "metadata": {},
   "outputs": [
    {
     "name": "stdout",
     "output_type": "stream",
     "text": [
      "{'india': 5, 'large': 7, 'democracy.': 4, '7th': 1, 'largest': 8, 'country': 3, 'world.': 12, 'population': 9, 'wise': 10, '2nd': 0, 'world': 11, 'just': 6, 'china.': 2}\n"
     ]
    }
   ],
   "source": [
    "tf_idf = TfidfVectorizer(tokenizer=lemitization, stop_words='english')\n",
    "\n",
    "t = tf_idf.fit_transform(sentences)\n",
    "\n",
    "print(tf_idf.vocabulary_)"
   ]
  },
  {
   "cell_type": "code",
   "execution_count": 174,
   "metadata": {},
   "outputs": [
    {
     "name": "stdout",
     "output_type": "stream",
     "text": [
      "[1.69314718 1.69314718 1.69314718 1.28768207 1.69314718 1.69314718\n",
      " 1.69314718 1.69314718 1.28768207 1.69314718 1.69314718 1.69314718\n",
      " 1.69314718]\n"
     ]
    }
   ],
   "source": [
    "print(tf_idf.idf_)"
   ]
  },
  {
   "cell_type": "markdown",
   "metadata": {},
   "source": [
    "## Cosine Similarity"
   ]
  },
  {
   "cell_type": "code",
   "execution_count": 175,
   "metadata": {},
   "outputs": [],
   "source": [
    "test = \"India has a huge population in the world\""
   ]
  },
  {
   "cell_type": "code",
   "execution_count": 176,
   "metadata": {},
   "outputs": [
    {
     "name": "stdout",
     "output_type": "stream",
     "text": [
      "  (0, 11)\t0.5773502691896257\n",
      "  (0, 9)\t0.5773502691896257\n",
      "  (0, 5)\t0.5773502691896257\n"
     ]
    }
   ],
   "source": [
    "test_tf = tf_idf.transform([test])\n",
    "\n",
    "print(test_tf)"
   ]
  },
  {
   "cell_type": "code",
   "execution_count": 177,
   "metadata": {},
   "outputs": [
    {
     "data": {
      "text/plain": [
       "array([[0.33333333, 0.        , 0.43162835]])"
      ]
     },
     "execution_count": 177,
     "metadata": {},
     "output_type": "execute_result"
    }
   ],
   "source": [
    "similarity = cosine_similarity(test_tf,t)\n",
    "similarity"
   ]
  },
  {
   "cell_type": "markdown",
   "metadata": {},
   "source": [
    "getting the index of highest similar value"
   ]
  },
  {
   "cell_type": "code",
   "execution_count": 178,
   "metadata": {},
   "outputs": [
    {
     "name": "stdout",
     "output_type": "stream",
     "text": [
      "2\n"
     ]
    }
   ],
   "source": [
    "idx = similarity.argsort()[0][-1]\n",
    "\n",
    "print(idx)"
   ]
  },
  {
   "cell_type": "code",
   "execution_count": 179,
   "metadata": {},
   "outputs": [
    {
     "name": "stdout",
     "output_type": "stream",
     "text": [
      "Similar line found\n"
     ]
    }
   ],
   "source": [
    "flat = similarity.flatten()\n",
    "flat.sort()\n",
    "ans = flat[-1]\n",
    "\n",
    "if ans == 0.0:\n",
    "    print(\"Could not find similar line\")\n",
    "else:\n",
    "    print(\"Similar line found\")"
   ]
  },
  {
   "cell_type": "markdown",
   "metadata": {},
   "source": [
    "getting the answer line"
   ]
  },
  {
   "cell_type": "code",
   "execution_count": 180,
   "metadata": {},
   "outputs": [
    {
     "name": "stdout",
     "output_type": "stream",
     "text": [
      "Answer = Also population wise it is the 2nd largest among all the countries in the world just after China.\n"
     ]
    }
   ],
   "source": [
    "print(\"Answer =\",sentences[idx])"
   ]
  }
 ],
 "metadata": {
  "kernelspec": {
   "display_name": "Python 3",
   "language": "python",
   "name": "python3"
  },
  "language_info": {
   "codemirror_mode": {
    "name": "ipython",
    "version": 3
   },
   "file_extension": ".py",
   "mimetype": "text/x-python",
   "name": "python",
   "nbconvert_exporter": "python",
   "pygments_lexer": "ipython3",
   "version": "3.11.3"
  }
 },
 "nbformat": 4,
 "nbformat_minor": 2
}
